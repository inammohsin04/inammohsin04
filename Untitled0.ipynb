{
  "nbformat": 4,
  "nbformat_minor": 0,
  "metadata": {
    "colab": {
      "provenance": [],
      "authorship_tag": "ABX9TyM5IhA2dHBLOWTPCIwCxS47",
      "include_colab_link": true
    },
    "kernelspec": {
      "name": "python3",
      "display_name": "Python 3"
    },
    "language_info": {
      "name": "python"
    }
  },
  "cells": [
    {
      "cell_type": "markdown",
      "metadata": {
        "id": "view-in-github",
        "colab_type": "text"
      },
      "source": [
        "<a href=\"https://colab.research.google.com/github/inammohsin04/inammohsin04/blob/main/Untitled0.ipynb\" target=\"_parent\"><img src=\"https://colab.research.google.com/assets/colab-badge.svg\" alt=\"Open In Colab\"/></a>"
      ]
    },
    {
      "cell_type": "markdown",
      "source": [
        "**Objective:**\n",
        "\n",
        "Predict women’s reviews or sentiment using Multinomial Naive Bayes.\n",
        "\n",
        "**Data Source:**\n",
        "\n",
        "Collect or use a publicly available dataset containing women's reviews. Sources like Kaggle or scraping online reviews could be suitable.\n",
        "\n",
        "**Import Library:**"
      ],
      "metadata": {
        "id": "0__w5GIO3e6w"
      }
    },
    {
      "cell_type": "code",
      "execution_count": null,
      "metadata": {
        "id": "RUOlkJja1NIZ"
      },
      "outputs": [],
      "source": [
        "import pandas as pd\n",
        "import numpy as np\n",
        "from sklearn.model_selection import train_test_split\n",
        "from sklearn.feature_extraction.text import CountVectorizer\n",
        "from sklearn.naive_bayes import MultinomialNB\n",
        "from sklearn.metrics import classification_report, accuracy_score, confusion_matrix\n",
        "import matplotlib.pyplot as plt\n",
        "import seaborn as sns"
      ]
    },
    {
      "cell_type": "markdown",
      "source": [
        "**Import Data:**"
      ],
      "metadata": {
        "id": "3iNcsZ2I4o-0"
      }
    },
    {
      "cell_type": "code",
      "source": [
        "# Example CSV import\n",
        "data = pd.read_csv('womens_reviews.csv')"
      ],
      "metadata": {
        "id": "NzIoLQAN5Aon"
      },
      "execution_count": null,
      "outputs": []
    },
    {
      "cell_type": "markdown",
      "source": [
        "**Describe Data:**"
      ],
      "metadata": {
        "id": "EPu2H7KO5MjK"
      }
    },
    {
      "cell_type": "code",
      "source": [
        "print(data.info())\n",
        "print(data.describe())\n",
        "print(data.head())"
      ],
      "metadata": {
        "id": "5aijaJyz5R0F"
      },
      "execution_count": null,
      "outputs": []
    },
    {
      "cell_type": "markdown",
      "source": [
        "**Data Visualization:**\n",
        "\n",
        "Visualize class distribution and common words in reviews."
      ],
      "metadata": {
        "id": "iOIk7IBh5coY"
      }
    },
    {
      "cell_type": "code",
      "source": [
        "sns.countplot(data['label'])\n",
        "plt.show()\n"
      ],
      "metadata": {
        "id": "4ryevkRF5mQQ"
      },
      "execution_count": null,
      "outputs": []
    },
    {
      "cell_type": "markdown",
      "source": [
        "**Data Preprocessing:**\n",
        "\n",
        "Clean text data, remove stop words, and apply tokenization."
      ],
      "metadata": {
        "id": "MEbU0Z1z5tFX"
      }
    },
    {
      "cell_type": "code",
      "source": [
        "data['cleaned_reviews'] = data['review'].apply(preprocess_text_function)  # Create a function to preprocess text\n"
      ],
      "metadata": {
        "id": "FATrnMGu51iA"
      },
      "execution_count": null,
      "outputs": []
    },
    {
      "cell_type": "markdown",
      "source": [
        "**Define Target Variable (y) and Feature Variables (X):**"
      ],
      "metadata": {
        "id": "MERPxiv156QU"
      }
    },
    {
      "cell_type": "code",
      "source": [
        "X = data['cleaned_reviews']\n",
        "y = data['label']  # Assuming 'label' contains sentiment classification\n"
      ],
      "metadata": {
        "id": "7wo4EM4n6E7T"
      },
      "execution_count": null,
      "outputs": []
    },
    {
      "cell_type": "markdown",
      "source": [
        "**Train Test Split:**"
      ],
      "metadata": {
        "id": "FPplo8vM6KIG"
      }
    },
    {
      "cell_type": "code",
      "source": [
        "X_train, X_test, y_train, y_test = train_test_split(X, y, test_size=0.2, random_state=42)\n"
      ],
      "metadata": {
        "id": "U95ooFet6V-U"
      },
      "execution_count": null,
      "outputs": []
    },
    {
      "cell_type": "markdown",
      "source": [
        "**Modeling:**\n",
        "\n",
        "Use CountVectorizer for text data and apply Multinomial Naive Bayes."
      ],
      "metadata": {
        "id": "lbANAk-A6chQ"
      }
    },
    {
      "cell_type": "code",
      "source": [
        "vectorizer = CountVectorizer()\n",
        "X_train_vectorized = vectorizer.fit_transform(X_train)\n",
        "X_test_vectorized = vectorizer.transform(X_test)\n",
        "\n",
        "model = MultinomialNB()\n",
        "model.fit(X_train_vectorized, y_train)\n"
      ],
      "metadata": {
        "id": "9nCwVBJX6kHr"
      },
      "execution_count": null,
      "outputs": []
    },
    {
      "cell_type": "markdown",
      "source": [
        "**Model Evaluation:**"
      ],
      "metadata": {
        "id": "x0In9OGn6p5t"
      }
    },
    {
      "cell_type": "code",
      "source": [
        "y_pred = model.predict(X_test_vectorized)\n",
        "print(classification_report(y_test, y_pred))\n",
        "print(confusion_matrix(y_test, y_pred))\n",
        "print(f\"Accuracy: {accuracy_score(y_test, y_pred)}\")\n"
      ],
      "metadata": {
        "id": "hLJy8pIb61MD"
      },
      "execution_count": null,
      "outputs": []
    },
    {
      "cell_type": "markdown",
      "source": [
        "**Prediction:**\n",
        "\n",
        "Make predictions on new review data."
      ],
      "metadata": {
        "id": "s4RMFIMh64Ln"
      }
    },
    {
      "cell_type": "code",
      "source": [
        "new_reviews = ['This product is amazing!', 'I didn’t like it.']\n",
        "new_reviews_vectorized = vectorizer.transform(new_reviews)\n",
        "predictions = model.predict(new_reviews_vectorized)\n",
        "print(predictions)"
      ],
      "metadata": {
        "id": "g3-BQrvH7ATu"
      },
      "execution_count": null,
      "outputs": []
    },
    {
      "cell_type": "markdown",
      "source": [
        "**Explanation:**\n",
        "\n",
        "Multinomial Naive Bayes works well for text classification because it assumes word occurrences follow a multinomial distribution, especially for discrete feature values such as word counts."
      ],
      "metadata": {
        "id": "0WMa6ENf7F7M"
      }
    },
    {
      "cell_type": "code",
      "source": [],
      "metadata": {
        "id": "yE5qEAWB7Qyg"
      },
      "execution_count": null,
      "outputs": []
    }
  ]
}